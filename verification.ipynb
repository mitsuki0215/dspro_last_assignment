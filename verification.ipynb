{
 "cells": [
  {
   "cell_type": "code",
   "execution_count": null,
   "metadata": {},
   "outputs": [],
   "source": [
    "import sqlite3\n",
    "import matplotlib.pyplot as plt\n",
    "\n",
    "# データベースへの接続\n",
    "conn = sqlite3.connect('./practice.sqlite')\n",
    "c = conn.cursor()\n",
    "\n",
    "# データの取得\n",
    "date_and_sleep_time_list = [data for data in c.execute('SELECT date, sleep_time FROM practice')]\n",
    "conn.close()\n",
    "\n",
    "date_list = []\n",
    "sleep_time_list = []\n",
    "\n",
    "for date_str, sleep_time in date_and_sleep_time_list:\n",
    "    date_str = date_str.replace(\"2023/12/\",\"\")\n",
    "    date_str = date_str.replace(\"2024/01/\",\"\")\n",
    "    date_list.append(date_str)  # 日付の文字列をdatetimeオブジェクトに変換\n",
    "    sleep_time_list.append(sleep_time)\n",
    "\n",
    "# Matplotlibでグラフをプロット\n",
    "plt.figure(figsize=(10, 6))\n",
    "plt.scatter(date_list, sleep_time_list, marker='o')  # 日付と睡眠時間をプロット\n",
    "plt.xlabel('Date')\n",
    "plt.ylabel('Sleep Time (Hours)')\n",
    "plt.title('Sleep Time Over Dates')\n",
    "# plt.gcf().autofmt_xdate()  # X軸の日付ラベルを斜めにして読みやすくする\n",
    "# plt.grid(True)  # グリッドを表示\n",
    "plt.show()"
   ]
  }
 ],
 "metadata": {
  "kernelspec": {
   "display_name": "Python 3",
   "language": "python",
   "name": "python3"
  },
  "language_info": {
   "codemirror_mode": {
    "name": "ipython",
    "version": 3
   },
   "file_extension": ".py",
   "mimetype": "text/x-python",
   "name": "python",
   "nbconvert_exporter": "python",
   "pygments_lexer": "ipython3",
   "version": "3.9.10"
  }
 },
 "nbformat": 4,
 "nbformat_minor": 2
}
