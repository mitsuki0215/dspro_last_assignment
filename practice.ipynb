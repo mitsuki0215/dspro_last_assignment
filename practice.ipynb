{
 "cells": [
  {
   "cell_type": "code",
   "execution_count": 67,
   "metadata": {},
   "outputs": [],
   "source": [
    "# 必要なモジュールをインポート\n",
    "# from bs4 import BeautifulSoup\n",
    "# import requests\n",
    "# import bs4\n",
    "# import pandas as pd"
   ]
  },
  {
   "cell_type": "code",
   "execution_count": 68,
   "metadata": {},
   "outputs": [],
   "source": [
    "# テストとして一旦HTMLの中身を取得\n",
    "# res = requests.get('https://tenki.jp/amp/past/2023/12/weather/3/15/47682/')\n",
    "# print(res.status_code)"
   ]
  },
  {
   "cell_type": "code",
   "execution_count": 69,
   "metadata": {},
   "outputs": [],
   "source": [
    "# BeautifulSoupを使ってみる（練習）\n",
    "# res = requests.get('https://tenki.jp/amp/past/2023/12/weather/3/15/47682/')\n",
    "# soup = BeautifulSoup(res.text, 'html.parser')\n",
    "# print(soup)"
   ]
  },
  {
   "cell_type": "code",
   "execution_count": 70,
   "metadata": {},
   "outputs": [],
   "source": [
    "# すべてのpタグを取得してみる(練習)\n",
    "# res = requests.get('https://tenki.jp/amp/past/2023/12/weather/3/15/47682/')\n",
    "# soup = BeautifulSoup(res.text, 'html.parser')\n",
    "# p_tag = soup.find_all('p')\n",
    "# p_strings = [x.string for x in p_tag]\n",
    "# print(p_strings)"
   ]
  },
  {
   "cell_type": "code",
   "execution_count": 71,
   "metadata": {},
   "outputs": [],
   "source": [
    "# noneになっていたタグの詳細を確認\n",
    "# print(p_tag[-1])"
   ]
  },
  {
   "cell_type": "code",
   "execution_count": 72,
   "metadata": {},
   "outputs": [],
   "source": [
    "# タグの親要素から子要素のタグの取得\n",
    "# res = requests.get('https://tenki.jp/amp/past/2023/12/weather/3/15/47682/')\n",
    "# soup = BeautifulSoup(res.text, 'html.parser')\n",
    "# a_tag = soup.find_all('div')\n",
    "# p_tag = a_tag[10].find('p')\n",
    "# # p_strings = [x.string for x in p_tag]\n",
    "# print(p_tag)"
   ]
  },
  {
   "cell_type": "code",
   "execution_count": 73,
   "metadata": {},
   "outputs": [],
   "source": [
    "# 指定したclassで取得(練習)\n",
    "# res = requests.get('https://tenki.jp/amp/past/2023/12/weather/3/15/47682/')\n",
    "# soup = BeautifulSoup(res.text, 'html.parser')\n",
    "# p_tag = soup.find_all('p', class_ = 'temp')\n",
    "# p_strings = [x.string for x in p_tag]\n",
    "# print(p_strings)"
   ]
  },
  {
   "cell_type": "code",
   "execution_count": 74,
   "metadata": {},
   "outputs": [],
   "source": [
    "# 最高気温を取得\n",
    "# res = requests.get('https://tenki.jp/amp/past/2023/12/weather/3/15/47682/')\n",
    "# soup = BeautifulSoup(res.text, 'html.parser')\n",
    "# p_tag = soup.find_all('p', class_='temp high-temp red')\n",
    "# high_temp_strings = [x.string for x in p_tag]\n",
    "# print(p_strings)"
   ]
  },
  {
   "cell_type": "code",
   "execution_count": 75,
   "metadata": {},
   "outputs": [],
   "source": [
    "# 最低気温の取得\n",
    "# res = requests.get('https://tenki.jp/amp/past/2023/12/weather/3/15/47682/')\n",
    "# soup = BeautifulSoup(res.text, 'html.parser')\n",
    "# p_tag = soup.find_all('p', class_='temp low-temp blue')\n",
    "# low_temp_strings = [x.string for x in p_tag]\n",
    "# print(p_strings)"
   ]
  },
  {
   "cell_type": "code",
   "execution_count": 76,
   "metadata": {},
   "outputs": [
    {
     "name": "stdout",
     "output_type": "stream",
     "text": [
      "['12.8℃', '14.0℃', '14.9℃', '15.1℃', '10.3℃', '16.1℃', '18.6℃', '17.0℃', '17.5℃', '18.4℃', '17.4℃', '15.2℃', '16.1℃', '15.2℃', '19.9℃', '24.2℃', '18.6℃', '11.9℃', '10.8℃', '12.0℃', '11.8℃', '10.0℃', '9.5℃', '9.5℃', '13.9℃', '13.0℃', '13.1℃', '9.3℃', '12.8℃', '14.8℃', '12.4℃']\n"
     ]
    }
   ],
   "source": [
    "# 12月の最高気温データを取得\n",
    "\n",
    "from bs4 import BeautifulSoup\n",
    "import requests\n",
    "\n",
    "res = requests.get('https://tenki.jp/amp/past/2023/12/weather/3/15/47682/')\n",
    "soup = BeautifulSoup(res.text, 'html.parser')\n",
    "\n",
    "# 'past-calender-box' クラスを持つdivを取得\n",
    "div_tag = soup.find('div', class_='past-calender-box')\n",
    "\n",
    "# 'past-calender-item' クラスを持つ全てのdivタグを取得\n",
    "calenders_month_12 = div_tag.select('div.past-calender-item:not(.past)')\n",
    "\n",
    "high_temp_month_12 = []\n",
    "for item in calenders_month_12:\n",
    "    # 各カレンダー要素から 'temp high-temp red' クラスを持つpタグを探す\n",
    "    p_tag = item.find('p', class_='temp high-temp red')\n",
    "    if p_tag:\n",
    "        # タグが見つかればその文字列をリストに追加\n",
    "        high_temp_month_12.append(p_tag.string)\n",
    "\n",
    "print(high_temp_month_12)\n",
    "\n"
   ]
  },
  {
   "cell_type": "code",
   "execution_count": 77,
   "metadata": {},
   "outputs": [
    {
     "name": "stdout",
     "output_type": "stream",
     "text": [
      "['13.0℃', '9.7℃', '12.0℃', '15.5℃', '13.5℃', '15.7℃', '11.4℃', '10.3℃', '10.8℃', '13.2℃', '7.6℃', '14.1℃', '12.4℃', '11.6℃', '12.2℃']\n"
     ]
    }
   ],
   "source": [
    "# 1月の最高気温を取得\n",
    "res = requests.get('https://tenki.jp/amp/past/2024/01/weather/3/15/47682/')\n",
    "soup = BeautifulSoup(res.text, 'html.parser')\n",
    "\n",
    "# 'past-calender-box' クラスを持つdivを取得\n",
    "div_tag = soup.find('div', class_='past-calender-box')\n",
    "\n",
    "# CSSセレクタを使用して 'past-calender-item' クラスのみを持つdivタグを取得\n",
    "calenders_month_1 = div_tag.select('div.past-calender-item:not(.past)')\n",
    "\n",
    "high_temp_month_1 = []\n",
    "for item in calenders_month_1:\n",
    "    # 各カレンダー要素から 'temp high-temp red' クラスを持つpタグを探す\n",
    "    p_tag = item.find('p', class_='temp high-temp red')\n",
    "    if p_tag:\n",
    "        # タグが見つかればその文字列をリストに追加\n",
    "        high_temp_month_1.append(p_tag.get_text())\n",
    "\n",
    "print(high_temp_month_1)\n"
   ]
  },
  {
   "cell_type": "code",
   "execution_count": 101,
   "metadata": {},
   "outputs": [
    {
     "name": "stdout",
     "output_type": "stream",
     "text": [
      "['16.1℃', '15.2℃', '19.9℃', '24.2℃', '18.6℃', '11.9℃', '10.8℃', '12.0℃', '11.8℃', '10.0℃', '9.5℃', '9.5℃', '13.9℃', '13.0℃', '13.1℃', '9.3℃', '12.8℃', '14.8℃', '12.4℃', '13.0℃', '9.7℃', '12.0℃', '15.5℃', '13.5℃', '15.7℃', '11.4℃', '10.3℃', '10.8℃', '13.2℃', '7.6℃', '14.1℃', '12.4℃', '11.6℃']\n",
      "33\n"
     ]
    }
   ],
   "source": [
    "# 12月と1月の最高気温データを結合\n",
    "high_temp_list = []\n",
    "\n",
    "for temp in high_temp_month_12:\n",
    "    joined_temp = ''.join(temp)\n",
    "    high_temp_list.append(joined_temp)\n",
    "\n",
    "for temp in high_temp_month_1:\n",
    "    joined_temp = ''.join(temp)\n",
    "    high_temp_list.append(joined_temp)\n",
    "    \n",
    "high_temp_list = high_temp_list[12:45]\n",
    "\n",
    "print(high_temp_list)\n",
    "print(len(high_temp_list))\n"
   ]
  },
  {
   "cell_type": "code",
   "execution_count": 96,
   "metadata": {},
   "outputs": [
    {
     "name": "stdout",
     "output_type": "stream",
     "text": [
      "['6.5℃', '4.5℃', '4.2℃', '6.7℃', '5.5℃', '8.3℃', '10.2℃', '8.9℃', '8.3℃', '8.5℃', '10.8℃', '10.5℃', '8.0℃', '7.2℃', '7.9℃', '13.7℃', '11.1℃', '5.1℃', '4.4℃', '6.0℃', '8.0℃', '1.5℃', '1.1℃', '2.7℃', '1.8℃', '4.2℃', '4.8℃', '5.0℃', '3.1℃', '4.8℃', '6.7℃']\n"
     ]
    }
   ],
   "source": [
    "# 12月の最低気温データを取得\n",
    "res = requests.get('https://tenki.jp/amp/past/2023/12/weather/3/15/47682/')\n",
    "soup = BeautifulSoup(res.text, 'html.parser')\n",
    "\n",
    "div_tag = soup.find('div', class_='past-calender-box')\n",
    "\n",
    "# 'past-calender-item' クラスを持つ全てのdivタグを取得\n",
    "calenders_month_12 = div_tag.select('div.past-calender-item:not(.past)')\n",
    "\n",
    "low_temp_month_12 = []\n",
    "for item in calenders_month_12:\n",
    "    # 各カレンダー要素から 'temp low-temp blue' クラスを持つpタグを探す\n",
    "    p_tag = item.find('p', class_='temp low-temp blue')\n",
    "    if p_tag:\n",
    "        # タグが見つかればその文字列をリストに追加\n",
    "        low_temp_month_12.append(p_tag.string)\n",
    "\n",
    "print(low_temp_month_12)"
   ]
  },
  {
   "cell_type": "code",
   "execution_count": 97,
   "metadata": {},
   "outputs": [
    {
     "name": "stdout",
     "output_type": "stream",
     "text": [
      "['8.9℃', '3.4℃', '3.6℃', '7.9℃', '3.8℃', '4.5℃', '8.4℃', '2.7℃', '2.3℃', '2.6℃', '4.1℃', '1.0℃', '4.1℃', '1.0℃', '7.7℃']\n"
     ]
    }
   ],
   "source": [
    "# 1月の最低気温を取得\n",
    "res = requests.get('https://tenki.jp/amp/past/2024/01/weather/3/15/47682/')\n",
    "soup = BeautifulSoup(res.text, 'html.parser')\n",
    "\n",
    "# 'past-calender-box' クラスを持つdivを取得\n",
    "div_tag = soup.find('div', class_='past-calender-box')\n",
    "\n",
    "# 'past-calender-item' クラスを持つ全てのdivタグを取得\n",
    "calenders_month_1 = div_tag.select('div.past-calender-item:not(.past)')\n",
    "\n",
    "low_temp_month_1 = []\n",
    "for item in calenders_month_1:\n",
    "    # 各カレンダー要素から 'temp high-temp red' クラスを持つpタグを探す\n",
    "    p_tag = item.find('p', class_='temp low-temp blue')\n",
    "    if p_tag:\n",
    "        # タグが見つかればその文字列をリストに追加\n",
    "        low_temp_month_1.append(p_tag.string)\n",
    "\n",
    "print(low_temp_month_1)"
   ]
  },
  {
   "cell_type": "code",
   "execution_count": 100,
   "metadata": {},
   "outputs": [
    {
     "name": "stdout",
     "output_type": "stream",
     "text": [
      "33\n"
     ]
    }
   ],
   "source": [
    "# 最低気温のデータを結合\n",
    "low_temp_list = []\n",
    "for temp in low_temp_month_12:\n",
    "    joined_temp = ''.join(temp)\n",
    "    low_temp_list.append(joined_temp)\n",
    "\n",
    "for temp in low_temp_month_1:\n",
    "    joined_temp = ''.join(temp)\n",
    "    low_temp_list.append(joined_temp)\n",
    "    \n",
    "# 不要なデータを削除\n",
    "low_temp_list = low_temp_list[12:45]\n",
    "\n",
    "print(len(low_temp_list))\n"
   ]
  },
  {
   "cell_type": "code",
   "execution_count": 82,
   "metadata": {},
   "outputs": [
    {
     "data": {
      "text/html": [
       "<div>\n",
       "<style scoped>\n",
       "    .dataframe tbody tr th:only-of-type {\n",
       "        vertical-align: middle;\n",
       "    }\n",
       "\n",
       "    .dataframe tbody tr th {\n",
       "        vertical-align: top;\n",
       "    }\n",
       "\n",
       "    .dataframe thead th {\n",
       "        text-align: right;\n",
       "    }\n",
       "</style>\n",
       "<table border=\"1\" class=\"dataframe\">\n",
       "  <thead>\n",
       "    <tr style=\"text-align: right;\">\n",
       "      <th></th>\n",
       "      <th>日付</th>\n",
       "      <th>睡眠時間</th>\n",
       "    </tr>\n",
       "  </thead>\n",
       "  <tbody>\n",
       "    <tr>\n",
       "      <th>0</th>\n",
       "      <td>2023/12/13</td>\n",
       "      <td>6.2</td>\n",
       "    </tr>\n",
       "    <tr>\n",
       "      <th>1</th>\n",
       "      <td>2023/12/14</td>\n",
       "      <td>5.3</td>\n",
       "    </tr>\n",
       "    <tr>\n",
       "      <th>2</th>\n",
       "      <td>2023/12/15</td>\n",
       "      <td>6.3</td>\n",
       "    </tr>\n",
       "    <tr>\n",
       "      <th>3</th>\n",
       "      <td>2023/12/16</td>\n",
       "      <td>10.4</td>\n",
       "    </tr>\n",
       "    <tr>\n",
       "      <th>4</th>\n",
       "      <td>2023/12/17</td>\n",
       "      <td>9.1</td>\n",
       "    </tr>\n",
       "    <tr>\n",
       "      <th>5</th>\n",
       "      <td>2023/12/18</td>\n",
       "      <td>6.4</td>\n",
       "    </tr>\n",
       "    <tr>\n",
       "      <th>6</th>\n",
       "      <td>2023/12/19</td>\n",
       "      <td>4.3</td>\n",
       "    </tr>\n",
       "    <tr>\n",
       "      <th>7</th>\n",
       "      <td>2023/12/20</td>\n",
       "      <td>5.5</td>\n",
       "    </tr>\n",
       "    <tr>\n",
       "      <th>8</th>\n",
       "      <td>2023/12/21</td>\n",
       "      <td>5.3</td>\n",
       "    </tr>\n",
       "    <tr>\n",
       "      <th>9</th>\n",
       "      <td>2023/12/22</td>\n",
       "      <td>9.0</td>\n",
       "    </tr>\n",
       "    <tr>\n",
       "      <th>10</th>\n",
       "      <td>2023/12/23</td>\n",
       "      <td>8.2</td>\n",
       "    </tr>\n",
       "    <tr>\n",
       "      <th>11</th>\n",
       "      <td>2023/12/24</td>\n",
       "      <td>8.4</td>\n",
       "    </tr>\n",
       "    <tr>\n",
       "      <th>12</th>\n",
       "      <td>2023/12/25</td>\n",
       "      <td>9.3</td>\n",
       "    </tr>\n",
       "    <tr>\n",
       "      <th>13</th>\n",
       "      <td>2023/12/26</td>\n",
       "      <td>7.2</td>\n",
       "    </tr>\n",
       "    <tr>\n",
       "      <th>14</th>\n",
       "      <td>2023/12/27</td>\n",
       "      <td>7.3</td>\n",
       "    </tr>\n",
       "    <tr>\n",
       "      <th>15</th>\n",
       "      <td>2023/12/28</td>\n",
       "      <td>7.5</td>\n",
       "    </tr>\n",
       "    <tr>\n",
       "      <th>16</th>\n",
       "      <td>2023/12/29</td>\n",
       "      <td>8.0</td>\n",
       "    </tr>\n",
       "    <tr>\n",
       "      <th>17</th>\n",
       "      <td>2023/12/30</td>\n",
       "      <td>6.3</td>\n",
       "    </tr>\n",
       "    <tr>\n",
       "      <th>18</th>\n",
       "      <td>2023/12/31</td>\n",
       "      <td>5.5</td>\n",
       "    </tr>\n",
       "    <tr>\n",
       "      <th>19</th>\n",
       "      <td>2024/01/01</td>\n",
       "      <td>7.3</td>\n",
       "    </tr>\n",
       "    <tr>\n",
       "      <th>20</th>\n",
       "      <td>2024/01/02</td>\n",
       "      <td>7.5</td>\n",
       "    </tr>\n",
       "    <tr>\n",
       "      <th>21</th>\n",
       "      <td>2024/01/03</td>\n",
       "      <td>7.2</td>\n",
       "    </tr>\n",
       "    <tr>\n",
       "      <th>22</th>\n",
       "      <td>2024/01/04</td>\n",
       "      <td>5.4</td>\n",
       "    </tr>\n",
       "    <tr>\n",
       "      <th>23</th>\n",
       "      <td>2024/01/05</td>\n",
       "      <td>7.5</td>\n",
       "    </tr>\n",
       "    <tr>\n",
       "      <th>24</th>\n",
       "      <td>2024/01/06</td>\n",
       "      <td>8.3</td>\n",
       "    </tr>\n",
       "    <tr>\n",
       "      <th>25</th>\n",
       "      <td>2024/01/07</td>\n",
       "      <td>9.1</td>\n",
       "    </tr>\n",
       "    <tr>\n",
       "      <th>26</th>\n",
       "      <td>2024/01/08</td>\n",
       "      <td>7.2</td>\n",
       "    </tr>\n",
       "    <tr>\n",
       "      <th>27</th>\n",
       "      <td>2024/01/09</td>\n",
       "      <td>6.1</td>\n",
       "    </tr>\n",
       "    <tr>\n",
       "      <th>28</th>\n",
       "      <td>2024/01/10</td>\n",
       "      <td>8.1</td>\n",
       "    </tr>\n",
       "    <tr>\n",
       "      <th>29</th>\n",
       "      <td>2024/01/11</td>\n",
       "      <td>5.5</td>\n",
       "    </tr>\n",
       "    <tr>\n",
       "      <th>30</th>\n",
       "      <td>2024/01/12</td>\n",
       "      <td>7.3</td>\n",
       "    </tr>\n",
       "    <tr>\n",
       "      <th>31</th>\n",
       "      <td>2024/01/13</td>\n",
       "      <td>4.1</td>\n",
       "    </tr>\n",
       "    <tr>\n",
       "      <th>32</th>\n",
       "      <td>2024/01/14</td>\n",
       "      <td>9.4</td>\n",
       "    </tr>\n",
       "  </tbody>\n",
       "</table>\n",
       "</div>"
      ],
      "text/plain": [
       "            日付  睡眠時間\n",
       "0   2023/12/13   6.2\n",
       "1   2023/12/14   5.3\n",
       "2   2023/12/15   6.3\n",
       "3   2023/12/16  10.4\n",
       "4   2023/12/17   9.1\n",
       "5   2023/12/18   6.4\n",
       "6   2023/12/19   4.3\n",
       "7   2023/12/20   5.5\n",
       "8   2023/12/21   5.3\n",
       "9   2023/12/22   9.0\n",
       "10  2023/12/23   8.2\n",
       "11  2023/12/24   8.4\n",
       "12  2023/12/25   9.3\n",
       "13  2023/12/26   7.2\n",
       "14  2023/12/27   7.3\n",
       "15  2023/12/28   7.5\n",
       "16  2023/12/29   8.0\n",
       "17  2023/12/30   6.3\n",
       "18  2023/12/31   5.5\n",
       "19  2024/01/01   7.3\n",
       "20  2024/01/02   7.5\n",
       "21  2024/01/03   7.2\n",
       "22  2024/01/04   5.4\n",
       "23  2024/01/05   7.5\n",
       "24  2024/01/06   8.3\n",
       "25  2024/01/07   9.1\n",
       "26  2024/01/08   7.2\n",
       "27  2024/01/09   6.1\n",
       "28  2024/01/10   8.1\n",
       "29  2024/01/11   5.5\n",
       "30  2024/01/12   7.3\n",
       "31  2024/01/13   4.1\n",
       "32  2024/01/14   9.4"
      ]
     },
     "execution_count": 82,
     "metadata": {},
     "output_type": "execute_result"
    }
   ],
   "source": [
    "import pandas as pd\n",
    "\n",
    "df = pd.read_csv('./dspro_last_assignment_local_data.csv')\n",
    "df\n",
    "# date = pd.to_datetime(df['日付'])\n",
    "# print(type(date[0]))"
   ]
  },
  {
   "cell_type": "code",
   "execution_count": 83,
   "metadata": {},
   "outputs": [
    {
     "data": {
      "text/plain": [
       "0    2023-12-13\n",
       "1    2023-12-14\n",
       "2    2023-12-15\n",
       "3    2023-12-16\n",
       "4    2023-12-17\n",
       "5    2023-12-18\n",
       "6    2023-12-19\n",
       "7    2023-12-20\n",
       "8    2023-12-21\n",
       "9    2023-12-22\n",
       "10   2023-12-23\n",
       "11   2023-12-24\n",
       "12   2023-12-25\n",
       "13   2023-12-26\n",
       "14   2023-12-27\n",
       "15   2023-12-28\n",
       "16   2023-12-29\n",
       "17   2023-12-30\n",
       "18   2023-12-31\n",
       "19   2024-01-01\n",
       "20   2024-01-02\n",
       "21   2024-01-03\n",
       "22   2024-01-04\n",
       "23   2024-01-05\n",
       "24   2024-01-06\n",
       "25   2024-01-07\n",
       "26   2024-01-08\n",
       "27   2024-01-09\n",
       "28   2024-01-10\n",
       "29   2024-01-11\n",
       "30   2024-01-12\n",
       "31   2024-01-13\n",
       "32   2024-01-14\n",
       "Name: 日付, dtype: datetime64[ns]"
      ]
     },
     "execution_count": 83,
     "metadata": {},
     "output_type": "execute_result"
    }
   ],
   "source": [
    "date = pd.to_datetime(df['日付'])\n",
    "date"
   ]
  },
  {
   "cell_type": "code",
   "execution_count": 84,
   "metadata": {},
   "outputs": [
    {
     "data": {
      "text/plain": [
       "0      6.2\n",
       "1      5.3\n",
       "2      6.3\n",
       "3     10.4\n",
       "4      9.1\n",
       "5      6.4\n",
       "6      4.3\n",
       "7      5.5\n",
       "8      5.3\n",
       "9      9.0\n",
       "10     8.2\n",
       "11     8.4\n",
       "12     9.3\n",
       "13     7.2\n",
       "14     7.3\n",
       "15     7.5\n",
       "16     8.0\n",
       "17     6.3\n",
       "18     5.5\n",
       "19     7.3\n",
       "20     7.5\n",
       "21     7.2\n",
       "22     5.4\n",
       "23     7.5\n",
       "24     8.3\n",
       "25     9.1\n",
       "26     7.2\n",
       "27     6.1\n",
       "28     8.1\n",
       "29     5.5\n",
       "30     7.3\n",
       "31     4.1\n",
       "32     9.4\n",
       "Name: 睡眠時間, dtype: float64"
      ]
     },
     "execution_count": 84,
     "metadata": {},
     "output_type": "execute_result"
    }
   ],
   "source": [
    "# 睡眠時間をsleep_timeに格納\n",
    "sleep_time = df['睡眠時間']\n",
    "sleep_time"
   ]
  },
  {
   "cell_type": "code",
   "execution_count": 85,
   "metadata": {},
   "outputs": [],
   "source": [
    "import sqlite3\n",
    "import pandas as pd\n",
    "import datetime\n",
    "\n",
    "# high_temp_lists, low_temp_lists, sleep_time のデータを取得する部分は省略\n",
    "\n",
    "# pandas を使用して sleep_time データをリストに変換\n",
    "df = pd.read_csv('./dspro_last_assignment_local_data.csv')\n",
    "date_list = df['日付']\n",
    "sleep_time_list = df['睡眠時間']\n",
    "\n",
    "# データベースへの接続\n",
    "path = './'\n",
    "db_name = 'practice.sqlite'\n",
    "con = sqlite3.connect(path + db_name, detect_types=sqlite3.PARSE_DECLTYPES)\n",
    "cur = con.cursor()\n",
    "\n",
    "# テーブルの作成\n",
    "sql_create_table_practice = '''\n",
    "CREATE TABLE IF NOT EXISTS practice (\n",
    "    id INTEGER PRIMARY KEY AUTOINCREMENT,\n",
    "    date DATETIME,\n",
    "    high_temp REAL,\n",
    "    low_temp REAL,\n",
    "    sleep_time REAL\n",
    ");\n",
    "'''\n",
    "cur.execute(sql_create_table_practice)\n",
    "\n",
    "# データを挿入するSQL\n",
    "sql_insert = \"INSERT INTO practice (date, high_temp, low_temp, sleep_time) VALUES (?, ?, ?, ?)\"\n",
    "\n",
    "# 各リストからデータを組み合わせて挿入\n",
    "for i in range(len(sleep_time_list)):\n",
    "    # 各リストからデータを取得    \n",
    "    date = date_list[i]\n",
    "    # date = datetime.datetime.strptime('2023/12/13', '%Y/%m/%d')\n",
    "    high_temp = float(high_temp_list[i].replace('℃', '')) if i < len(high_temp_list) else None\n",
    "    low_temp = float(low_temp_list[i].replace('℃', '')) if i < len(low_temp_list) else None\n",
    "    sleep_time = sleep_time_list[i]\n",
    "\n",
    "    # データを挿入\n",
    "    cur.execute(sql_insert, (date, high_temp, low_temp, sleep_time))\n",
    "\n",
    "# コミット処理\n",
    "con.commit()\n",
    "\n",
    "# DB接続を閉じる\n",
    "con.close()\n",
    "\n"
   ]
  },
  {
   "cell_type": "code",
   "execution_count": 86,
   "metadata": {},
   "outputs": [
    {
     "name": "stdout",
     "output_type": "stream",
     "text": [
      "[('2023/12/13', 6.2), ('2023/12/14', 5.3), ('2023/12/15', 6.3), ('2023/12/16', 10.4), ('2023/12/17', 9.1), ('2023/12/18', 6.4), ('2023/12/19', 4.3), ('2023/12/20', 5.5), ('2023/12/21', 5.3), ('2023/12/22', 9.0), ('2023/12/23', 8.2), ('2023/12/24', 8.4), ('2023/12/25', 9.3), ('2023/12/26', 7.2), ('2023/12/27', 7.3), ('2023/12/28', 7.5), ('2023/12/29', 8.0), ('2023/12/30', 6.3), ('2023/12/31', 5.5), ('2024/01/01', 7.3), ('2024/01/02', 7.5), ('2024/01/03', 7.2), ('2024/01/04', 5.4), ('2024/01/05', 7.5), ('2024/01/06', 8.3), ('2024/01/07', 9.1), ('2024/01/08', 7.2), ('2024/01/09', 6.1), ('2024/01/10', 8.1), ('2024/01/11', 5.5), ('2024/01/12', 7.3), ('2024/01/13', 4.1), ('2024/01/14', 9.4)]\n"
     ]
    }
   ],
   "source": [
    "import sqlite3\n",
    "\n",
    "conn = sqlite3.connect('./practice.sqlite')\n",
    "\n",
    "c = conn.cursor()\n",
    "\n",
    "date_and_sleep_time_list = [data for data in c.execute('SELECT date, sleep_time FROM practice')]\n",
    "\n",
    "print(date_and_sleep_time_list)    \n",
    "\n",
    "conn.close()\n",
    "\n"
   ]
  },
  {
   "cell_type": "code",
   "execution_count": 89,
   "metadata": {},
   "outputs": [
    {
     "data": {
      "image/png": "[encoded data removed]",
      "text/plain": [
       "<Figure size 1000x600 with 1 Axes>"
      ]
     },
     "metadata": {},
     "output_type": "display_data"
    }
   ],
   "source": [
    "import matplotlib.pyplot as plt\n",
    "\n",
    "# データベースへの接続\n",
    "conn = sqlite3.connect('./practice.sqlite')\n",
    "c = conn.cursor()\n",
    "\n",
    "# データの取得\n",
    "date_and_sleep_time_list = [data for data in c.execute('SELECT date, sleep_time FROM practice')]\n",
    "conn.close()\n",
    "\n",
    "date_list = []\n",
    "sleep_time_list = []\n",
    "\n",
    "for date_str, sleep_time in date_and_sleep_time_list:\n",
    "    date_str = date_str.replace(\"2023/12/\",\"\")\n",
    "    date_str = date_str.replace(\"2024/01/\",\"\")\n",
    "    date_list.append(date_str)  # 日付の文字列をdatetimeオブジェクトに変換\n",
    "    sleep_time_list.append(sleep_time)\n",
    "\n",
    "# Matplotlibでグラフをプロット\n",
    "plt.figure(figsize=(10, 6))\n",
    "plt.scatter(date_list, sleep_time_list, marker='o')  # 日付と睡眠時間をプロット\n",
    "plt.xlabel('Date')\n",
    "plt.ylabel('Sleep Time (Hours)')\n",
    "plt.title('Sleep Time Over Dates')\n",
    "# plt.gcf().autofmt_xdate()  # X軸の日付ラベルを斜めにして読みやすくする\n",
    "# plt.grid(True)  # グリッドを表示\n",
    "plt.show()\n",
    "    "
   ]
  },
  {
   "cell_type": "code",
   "execution_count": 90,
   "metadata": {},
   "outputs": [
    {
     "ename": "ValueError",
     "evalue": "too many values to unpack (expected 2)",
     "output_type": "error",
     "traceback": [
      "\u001b[0;31m---------------------------------------------------------------------------\u001b[0m",
      "\u001b[0;31mValueError\u001b[0m                                Traceback (most recent call last)",
      "Cell \u001b[0;32mIn[90], line 13\u001b[0m\n\u001b[1;32m     10\u001b[0m sleep_time_list \u001b[38;5;241m=\u001b[39m []\n\u001b[1;32m     11\u001b[0m high_temp_list \u001b[38;5;241m=\u001b[39m []\n\u001b[0;32m---> 13\u001b[0m \u001b[38;5;28;01mfor\u001b[39;00m sleep_time, high_temp \u001b[38;5;129;01min\u001b[39;00m date_and_sleep_time_and_high_temp_list:\n\u001b[1;32m     14\u001b[0m     sleep_time_list\u001b[38;5;241m.\u001b[39mappend(sleep_time)  \u001b[38;5;66;03m# 日付の文字列をdatetimeオブジェクトに変換\u001b[39;00m\n\u001b[1;32m     15\u001b[0m     high_temp_list\u001b[38;5;241m.\u001b[39mappend(sleep_time)\n",
      "\u001b[0;31mValueError\u001b[0m: too many values to unpack (expected 2)"
     ]
    }
   ],
   "source": [
    "# データベースへの接続\n",
    "conn = sqlite3.connect('./practice.sqlite')\n",
    "c = conn.cursor()\n",
    "\n",
    "# データの取得\n",
    "date_and_sleep_time_and_high_temp_list = [data for data in c.execute('SELECT date ,sleep_time, high_temp FROM practice')]\n",
    "conn.close()\n",
    "\n",
    "date_list = []\n",
    "sleep_time_list = []\n",
    "high_temp_list = []\n",
    "\n",
    "for sleep_time, high_temp in date_and_sleep_time_and_high_temp_list:\n",
    "    sleep_time_list.append(sleep_time)  # 日付の文字列をdatetimeオブジェクトに変換\n",
    "    high_temp_list.append(sleep_time)\n",
    "\n",
    "# Matplotlibでグラフをプロット\n",
    "plt.figure(figsize=(10, 6))\n",
    "plt.scatter(high_temp_list, sleep_time_list, marker='o')  # 日付と睡眠時間をプロット\n",
    "plt.xlabel('Sleep Time (Hours)')\n",
    "plt.ylabel('High Temp (℃)')\n",
    "plt.title('Sleep Time Over High Temp')\n",
    "# plt.gcf().autofmt_xdate()  # X軸の日付ラベルを斜めにして読みやすくする\n",
    "# plt.grid(True)  # グリッドを表示\n",
    "plt.show()"
   ]
  },
  {
   "cell_type": "code",
   "execution_count": 91,
   "metadata": {},
   "outputs": [
    {
     "ename": "ValueError",
     "evalue": "x and y must have same first dimension, but have shapes (0,) and (33,)",
     "output_type": "error",
     "traceback": [
      "\u001b[0;31m---------------------------------------------------------------------------\u001b[0m",
      "\u001b[0;31mValueError\u001b[0m                                Traceback (most recent call last)",
      "Cell \u001b[0;32mIn[91], line 30\u001b[0m\n\u001b[1;32m     27\u001b[0m plt\u001b[38;5;241m.\u001b[39mfigure(figsize\u001b[38;5;241m=\u001b[39m(\u001b[38;5;241m10\u001b[39m, \u001b[38;5;241m6\u001b[39m))\n\u001b[1;32m     29\u001b[0m \u001b[38;5;66;03m# 睡眠時間に対する日付のプロット（折れ線グラフ）\u001b[39;00m\n\u001b[0;32m---> 30\u001b[0m \u001b[43mplt\u001b[49m\u001b[38;5;241;43m.\u001b[39;49m\u001b[43mplot\u001b[49m\u001b[43m(\u001b[49m\u001b[43mdate_list\u001b[49m\u001b[43m,\u001b[49m\u001b[43m \u001b[49m\u001b[43msleep_time_list\u001b[49m\u001b[43m,\u001b[49m\u001b[43m \u001b[49m\u001b[43mlabel\u001b[49m\u001b[38;5;241;43m=\u001b[39;49m\u001b[38;5;124;43m'\u001b[39;49m\u001b[38;5;124;43mSleep Time (Hours)\u001b[39;49m\u001b[38;5;124;43m'\u001b[39;49m\u001b[43m,\u001b[49m\u001b[43m \u001b[49m\u001b[43mcolor\u001b[49m\u001b[38;5;241;43m=\u001b[39;49m\u001b[38;5;124;43m'\u001b[39;49m\u001b[38;5;124;43mblue\u001b[39;49m\u001b[38;5;124;43m'\u001b[39;49m\u001b[43m,\u001b[49m\u001b[43m \u001b[49m\u001b[43mmarker\u001b[49m\u001b[38;5;241;43m=\u001b[39;49m\u001b[38;5;124;43m'\u001b[39;49m\u001b[38;5;124;43mo\u001b[39;49m\u001b[38;5;124;43m'\u001b[39;49m\u001b[43m)\u001b[49m\n\u001b[1;32m     32\u001b[0m \u001b[38;5;66;03m# 最高気温に対する日付のプロット（折れ線グラフ）\u001b[39;00m\n\u001b[1;32m     33\u001b[0m plt\u001b[38;5;241m.\u001b[39mplot(date_list, high_temp_list, label\u001b[38;5;241m=\u001b[39m\u001b[38;5;124m'\u001b[39m\u001b[38;5;124mHigh Temp (℃)\u001b[39m\u001b[38;5;124m'\u001b[39m, color\u001b[38;5;241m=\u001b[39m\u001b[38;5;124m'\u001b[39m\u001b[38;5;124mred\u001b[39m\u001b[38;5;124m'\u001b[39m, marker\u001b[38;5;241m=\u001b[39m\u001b[38;5;124m'\u001b[39m\u001b[38;5;124mo\u001b[39m\u001b[38;5;124m'\u001b[39m)\n",
      "File \u001b[0;32m~/.pyenv/versions/3.9.10/lib/python3.9/site-packages/matplotlib/pyplot.py:2812\u001b[0m, in \u001b[0;36mplot\u001b[0;34m(scalex, scaley, data, *args, **kwargs)\u001b[0m\n\u001b[1;32m   2810\u001b[0m \u001b[38;5;129m@_copy_docstring_and_deprecators\u001b[39m(Axes\u001b[38;5;241m.\u001b[39mplot)\n\u001b[1;32m   2811\u001b[0m \u001b[38;5;28;01mdef\u001b[39;00m \u001b[38;5;21mplot\u001b[39m(\u001b[38;5;241m*\u001b[39margs, scalex\u001b[38;5;241m=\u001b[39m\u001b[38;5;28;01mTrue\u001b[39;00m, scaley\u001b[38;5;241m=\u001b[39m\u001b[38;5;28;01mTrue\u001b[39;00m, data\u001b[38;5;241m=\u001b[39m\u001b[38;5;28;01mNone\u001b[39;00m, \u001b[38;5;241m*\u001b[39m\u001b[38;5;241m*\u001b[39mkwargs):\n\u001b[0;32m-> 2812\u001b[0m     \u001b[38;5;28;01mreturn\u001b[39;00m \u001b[43mgca\u001b[49m\u001b[43m(\u001b[49m\u001b[43m)\u001b[49m\u001b[38;5;241;43m.\u001b[39;49m\u001b[43mplot\u001b[49m\u001b[43m(\u001b[49m\n\u001b[1;32m   2813\u001b[0m \u001b[43m        \u001b[49m\u001b[38;5;241;43m*\u001b[39;49m\u001b[43margs\u001b[49m\u001b[43m,\u001b[49m\u001b[43m \u001b[49m\u001b[43mscalex\u001b[49m\u001b[38;5;241;43m=\u001b[39;49m\u001b[43mscalex\u001b[49m\u001b[43m,\u001b[49m\u001b[43m \u001b[49m\u001b[43mscaley\u001b[49m\u001b[38;5;241;43m=\u001b[39;49m\u001b[43mscaley\u001b[49m\u001b[43m,\u001b[49m\n\u001b[1;32m   2814\u001b[0m \u001b[43m        \u001b[49m\u001b[38;5;241;43m*\u001b[39;49m\u001b[38;5;241;43m*\u001b[39;49m\u001b[43m(\u001b[49m\u001b[43m{\u001b[49m\u001b[38;5;124;43m\"\u001b[39;49m\u001b[38;5;124;43mdata\u001b[39;49m\u001b[38;5;124;43m\"\u001b[39;49m\u001b[43m:\u001b[49m\u001b[43m \u001b[49m\u001b[43mdata\u001b[49m\u001b[43m}\u001b[49m\u001b[43m \u001b[49m\u001b[38;5;28;43;01mif\u001b[39;49;00m\u001b[43m \u001b[49m\u001b[43mdata\u001b[49m\u001b[43m \u001b[49m\u001b[38;5;129;43;01mis\u001b[39;49;00m\u001b[43m \u001b[49m\u001b[38;5;129;43;01mnot\u001b[39;49;00m\u001b[43m \u001b[49m\u001b[38;5;28;43;01mNone\u001b[39;49;00m\u001b[43m \u001b[49m\u001b[38;5;28;43;01melse\u001b[39;49;00m\u001b[43m \u001b[49m\u001b[43m{\u001b[49m\u001b[43m}\u001b[49m\u001b[43m)\u001b[49m\u001b[43m,\u001b[49m\u001b[43m \u001b[49m\u001b[38;5;241;43m*\u001b[39;49m\u001b[38;5;241;43m*\u001b[39;49m\u001b[43mkwargs\u001b[49m\u001b[43m)\u001b[49m\n",
      "File \u001b[0;32m~/.pyenv/versions/3.9.10/lib/python3.9/site-packages/matplotlib/axes/_axes.py:1688\u001b[0m, in \u001b[0;36mAxes.plot\u001b[0;34m(self, scalex, scaley, data, *args, **kwargs)\u001b[0m\n\u001b[1;32m   1445\u001b[0m \u001b[38;5;250m\u001b[39m\u001b[38;5;124;03m\"\"\"\u001b[39;00m\n\u001b[1;32m   1446\u001b[0m \u001b[38;5;124;03mPlot y versus x as lines and/or markers.\u001b[39;00m\n\u001b[1;32m   1447\u001b[0m \n\u001b[0;32m   (...)\u001b[0m\n\u001b[1;32m   1685\u001b[0m \u001b[38;5;124;03m(``'green'``) or hex strings (``'#008000'``).\u001b[39;00m\n\u001b[1;32m   1686\u001b[0m \u001b[38;5;124;03m\"\"\"\u001b[39;00m\n\u001b[1;32m   1687\u001b[0m kwargs \u001b[38;5;241m=\u001b[39m cbook\u001b[38;5;241m.\u001b[39mnormalize_kwargs(kwargs, mlines\u001b[38;5;241m.\u001b[39mLine2D)\n\u001b[0;32m-> 1688\u001b[0m lines \u001b[38;5;241m=\u001b[39m [\u001b[38;5;241m*\u001b[39m\u001b[38;5;28mself\u001b[39m\u001b[38;5;241m.\u001b[39m_get_lines(\u001b[38;5;241m*\u001b[39margs, data\u001b[38;5;241m=\u001b[39mdata, \u001b[38;5;241m*\u001b[39m\u001b[38;5;241m*\u001b[39mkwargs)]\n\u001b[1;32m   1689\u001b[0m \u001b[38;5;28;01mfor\u001b[39;00m line \u001b[38;5;129;01min\u001b[39;00m lines:\n\u001b[1;32m   1690\u001b[0m     \u001b[38;5;28mself\u001b[39m\u001b[38;5;241m.\u001b[39madd_line(line)\n",
      "File \u001b[0;32m~/.pyenv/versions/3.9.10/lib/python3.9/site-packages/matplotlib/axes/_base.py:311\u001b[0m, in \u001b[0;36m_process_plot_var_args.__call__\u001b[0;34m(self, data, *args, **kwargs)\u001b[0m\n\u001b[1;32m    309\u001b[0m     this \u001b[38;5;241m+\u001b[39m\u001b[38;5;241m=\u001b[39m args[\u001b[38;5;241m0\u001b[39m],\n\u001b[1;32m    310\u001b[0m     args \u001b[38;5;241m=\u001b[39m args[\u001b[38;5;241m1\u001b[39m:]\n\u001b[0;32m--> 311\u001b[0m \u001b[38;5;28;01myield from\u001b[39;00m \u001b[38;5;28;43mself\u001b[39;49m\u001b[38;5;241;43m.\u001b[39;49m\u001b[43m_plot_args\u001b[49m\u001b[43m(\u001b[49m\n\u001b[1;32m    312\u001b[0m \u001b[43m    \u001b[49m\u001b[43mthis\u001b[49m\u001b[43m,\u001b[49m\u001b[43m \u001b[49m\u001b[43mkwargs\u001b[49m\u001b[43m,\u001b[49m\u001b[43m \u001b[49m\u001b[43mambiguous_fmt_datakey\u001b[49m\u001b[38;5;241;43m=\u001b[39;49m\u001b[43mambiguous_fmt_datakey\u001b[49m\u001b[43m)\u001b[49m\n",
      "File \u001b[0;32m~/.pyenv/versions/3.9.10/lib/python3.9/site-packages/matplotlib/axes/_base.py:504\u001b[0m, in \u001b[0;36m_process_plot_var_args._plot_args\u001b[0;34m(self, tup, kwargs, return_kwargs, ambiguous_fmt_datakey)\u001b[0m\n\u001b[1;32m    501\u001b[0m     \u001b[38;5;28mself\u001b[39m\u001b[38;5;241m.\u001b[39maxes\u001b[38;5;241m.\u001b[39myaxis\u001b[38;5;241m.\u001b[39mupdate_units(y)\n\u001b[1;32m    503\u001b[0m \u001b[38;5;28;01mif\u001b[39;00m x\u001b[38;5;241m.\u001b[39mshape[\u001b[38;5;241m0\u001b[39m] \u001b[38;5;241m!=\u001b[39m y\u001b[38;5;241m.\u001b[39mshape[\u001b[38;5;241m0\u001b[39m]:\n\u001b[0;32m--> 504\u001b[0m     \u001b[38;5;28;01mraise\u001b[39;00m \u001b[38;5;167;01mValueError\u001b[39;00m(\u001b[38;5;124mf\u001b[39m\u001b[38;5;124m\"\u001b[39m\u001b[38;5;124mx and y must have same first dimension, but \u001b[39m\u001b[38;5;124m\"\u001b[39m\n\u001b[1;32m    505\u001b[0m                      \u001b[38;5;124mf\u001b[39m\u001b[38;5;124m\"\u001b[39m\u001b[38;5;124mhave shapes \u001b[39m\u001b[38;5;132;01m{\u001b[39;00mx\u001b[38;5;241m.\u001b[39mshape\u001b[38;5;132;01m}\u001b[39;00m\u001b[38;5;124m and \u001b[39m\u001b[38;5;132;01m{\u001b[39;00my\u001b[38;5;241m.\u001b[39mshape\u001b[38;5;132;01m}\u001b[39;00m\u001b[38;5;124m\"\u001b[39m)\n\u001b[1;32m    506\u001b[0m \u001b[38;5;28;01mif\u001b[39;00m x\u001b[38;5;241m.\u001b[39mndim \u001b[38;5;241m>\u001b[39m \u001b[38;5;241m2\u001b[39m \u001b[38;5;129;01mor\u001b[39;00m y\u001b[38;5;241m.\u001b[39mndim \u001b[38;5;241m>\u001b[39m \u001b[38;5;241m2\u001b[39m:\n\u001b[1;32m    507\u001b[0m     \u001b[38;5;28;01mraise\u001b[39;00m \u001b[38;5;167;01mValueError\u001b[39;00m(\u001b[38;5;124mf\u001b[39m\u001b[38;5;124m\"\u001b[39m\u001b[38;5;124mx and y can be no greater than 2D, but have \u001b[39m\u001b[38;5;124m\"\u001b[39m\n\u001b[1;32m    508\u001b[0m                      \u001b[38;5;124mf\u001b[39m\u001b[38;5;124m\"\u001b[39m\u001b[38;5;124mshapes \u001b[39m\u001b[38;5;132;01m{\u001b[39;00mx\u001b[38;5;241m.\u001b[39mshape\u001b[38;5;132;01m}\u001b[39;00m\u001b[38;5;124m and \u001b[39m\u001b[38;5;132;01m{\u001b[39;00my\u001b[38;5;241m.\u001b[39mshape\u001b[38;5;132;01m}\u001b[39;00m\u001b[38;5;124m\"\u001b[39m)\n",
      "\u001b[0;31mValueError\u001b[0m: x and y must have same first dimension, but have shapes (0,) and (33,)"
     ]
    },
    {
     "data": {
      "image/png": "[encoded data removed]",
      "text/plain": [
       "<Figure size 1000x600 with 1 Axes>"
      ]
     },
     "metadata": {},
     "output_type": "display_data"
    }
   ],
   "source": [
    "import sqlite3\n",
    "import matplotlib.pyplot as plt\n",
    "import matplotlib.dates as mdates\n",
    "from datetime import datetime\n",
    "\n",
    "# データベースへの接続\n",
    "conn = sqlite3.connect('./practice.sqlite')\n",
    "c = conn.cursor()\n",
    "\n",
    "# データの取得\n",
    "date_and_sleep_time_and_high_temp_list = [data for data in c.execute('SELECT date, sleep_time, high_temp FROM practice')]\n",
    "conn.close()\n",
    "\n",
    "# リストの初期化\n",
    "date_list = []\n",
    "sleep_time_list = []\n",
    "high_temp_list = []\n",
    "\n",
    "# データのリストへの格納\n",
    "for date_str, sleep_time, high_temp in date_and_sleep_time_and_high_temp_list:\n",
    "    date_str = date_str.replace(\"2023/12/\",\"\")\n",
    "    date_str = date_str.replace(\"2024/01/\",\"\") # 日付の文字列をdatetimeオブジェクトに変換\n",
    "    sleep_time_list.append(sleep_time)\n",
    "    high_temp_list.append(high_temp)\n",
    "\n",
    "# Matplotlibでグラフをプロット\n",
    "plt.figure(figsize=(10, 6))\n",
    "\n",
    "# 睡眠時間に対する日付のプロット（折れ線グラフ）\n",
    "plt.plot(date_list, sleep_time_list, label='Sleep Time (Hours)', color='blue', marker='o')\n",
    "\n",
    "# 最高気温に対する日付のプロット（折れ線グラフ）\n",
    "plt.plot(date_list, high_temp_list, label='High Temp (℃)', color='red', marker='o')\n",
    "plt.xlabel('Date')\n",
    "plt.ylabel('Sleep Time / High Temp')\n",
    "plt.title('Sleep Time and High Temp Over Date')\n",
    "# plt.gca().xaxis.set_major_formatter(mdates.DateFormatter('%Y-%m-%d')) # X軸の日付フォーマットを設定\n",
    "# plt.gca().xaxis.set_major_locator(mdates.DayLocator(interval=1)) # X軸の目盛りを日単位に設定\n",
    "plt.gcf().autofmt_xdate() # X軸の日付ラベルを斜めにして読みやすくする\n",
    "plt.legend() # 凡例を表示\n",
    "plt.grid(True) # グリッドを表示\n",
    "plt.show() # グラフを表示"
   ]
  }
 ],
 "metadata": {
  "kernelspec": {
   "display_name": "Python 3",
   "language": "python",
   "name": "python3"
  },
  "language_info": {
   "codemirror_mode": {
    "name": "ipython",
    "version": 3
   },
   "file_extension": ".py",
   "mimetype": "text/x-python",
   "name": "python",
   "nbconvert_exporter": "python",
   "pygments_lexer": "ipython3",
   "version": "3.9.10"
  }
 },
 "nbformat": 4,
 "nbformat_minor": 2
}
