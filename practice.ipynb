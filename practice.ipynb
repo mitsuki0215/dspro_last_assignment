{
 "cells": [
  {
   "cell_type": "code",
   "execution_count": 135,
   "metadata": {},
   "outputs": [],
   "source": [
    "# 必要なモジュールをインポート\n",
    "# from bs4 import BeautifulSoup\n",
    "# import requests\n",
    "# import bs4\n",
    "# import pandas as pd"
   ]
  },
  {
   "cell_type": "code",
   "execution_count": 136,
   "metadata": {},
   "outputs": [],
   "source": [
    "# テストとして一旦HTMLの中身を取得\n",
    "# res = requests.get('https://tenki.jp/amp/past/2023/12/weather/3/15/47682/')\n",
    "# print(res.status_code)"
   ]
  },
  {
   "cell_type": "code",
   "execution_count": 137,
   "metadata": {},
   "outputs": [],
   "source": [
    "# BeautifulSoupを使ってみる（練習）\n",
    "# res = requests.get('https://tenki.jp/amp/past/2023/12/weather/3/15/47682/')\n",
    "# soup = BeautifulSoup(res.text, 'html.parser')\n",
    "# print(soup)"
   ]
  },
  {
   "cell_type": "code",
   "execution_count": 138,
   "metadata": {},
   "outputs": [],
   "source": [
    "# すべてのpタグを取得してみる(練習)\n",
    "# res = requests.get('https://tenki.jp/amp/past/2023/12/weather/3/15/47682/')\n",
    "# soup = BeautifulSoup(res.text, 'html.parser')\n",
    "# p_tag = soup.find_all('p')\n",
    "# p_strings = [x.string for x in p_tag]\n",
    "# print(p_strings)"
   ]
  },
  {
   "cell_type": "code",
   "execution_count": 139,
   "metadata": {},
   "outputs": [],
   "source": [
    "# noneになっていたタグの詳細を確認\n",
    "# print(p_tag[-1])"
   ]
  },
  {
   "cell_type": "code",
   "execution_count": 140,
   "metadata": {},
   "outputs": [],
   "source": [
    "# タグの親要素から子要素のタグの取得\n",
    "# res = requests.get('https://tenki.jp/amp/past/2023/12/weather/3/15/47682/')\n",
    "# soup = BeautifulSoup(res.text, 'html.parser')\n",
    "# a_tag = soup.find_all('div')\n",
    "# p_tag = a_tag[10].find('p')\n",
    "# # p_strings = [x.string for x in p_tag]\n",
    "# print(p_tag)"
   ]
  },
  {
   "cell_type": "code",
   "execution_count": 141,
   "metadata": {},
   "outputs": [],
   "source": [
    "# 指定したclassで取得(練習)\n",
    "# res = requests.get('https://tenki.jp/amp/past/2023/12/weather/3/15/47682/')\n",
    "# soup = BeautifulSoup(res.text, 'html.parser')\n",
    "# p_tag = soup.find_all('p', class_ = 'temp')\n",
    "# p_strings = [x.string for x in p_tag]\n",
    "# print(p_strings)"
   ]
  },
  {
   "cell_type": "code",
   "execution_count": 142,
   "metadata": {},
   "outputs": [],
   "source": [
    "# 最高気温を取得\n",
    "# res = requests.get('https://tenki.jp/amp/past/2023/12/weather/3/15/47682/')\n",
    "# soup = BeautifulSoup(res.text, 'html.parser')\n",
    "# p_tag = soup.find_all('p', class_='temp high-temp red')\n",
    "# high_temp_strings = [x.string for x in p_tag]\n",
    "# print(p_strings)"
   ]
  },
  {
   "cell_type": "code",
   "execution_count": 143,
   "metadata": {},
   "outputs": [],
   "source": [
    "# 最低気温の取得\n",
    "# res = requests.get('https://tenki.jp/amp/past/2023/12/weather/3/15/47682/')\n",
    "# soup = BeautifulSoup(res.text, 'html.parser')\n",
    "# p_tag = soup.find_all('p', class_='temp low-temp blue')\n",
    "# low_temp_strings = [x.string for x in p_tag]\n",
    "# print(p_strings)"
   ]
  },
  {
   "cell_type": "code",
   "execution_count": 144,
   "metadata": {},
   "outputs": [
    {
     "name": "stdout",
     "output_type": "stream",
     "text": [
      "['12.8℃', '14.0℃', '14.9℃', '15.1℃', '10.3℃', '16.1℃', '18.6℃', '17.0℃', '17.5℃', '18.4℃', '17.4℃', '15.2℃', '16.1℃', '15.2℃', '19.9℃', '24.2℃', '18.6℃', '11.9℃', '10.8℃', '12.0℃', '11.8℃', '10.0℃', '9.5℃', '9.5℃', '13.9℃', '13.0℃', '13.1℃', '9.3℃', '12.8℃', '14.8℃', '12.4℃']\n"
     ]
    }
   ],
   "source": [
    "# 12月の最高気温データを取得\n",
    "\n",
    "from bs4 import BeautifulSoup\n",
    "import requests\n",
    "\n",
    "res = requests.get('https://tenki.jp/amp/past/2023/12/weather/3/15/47682/')\n",
    "soup = BeautifulSoup(res.text, 'html.parser')\n",
    "\n",
    "# 'past-calender-box' クラスを持つdivを取得\n",
    "div_tag = soup.find('div', class_='past-calender-box')\n",
    "\n",
    "# 'past-calender-item' クラスを持つ全てのdivタグを取得\n",
    "calenders_month_12 = div_tag.select('div.past-calender-item:not(.past)')\n",
    "\n",
    "high_temp_month_12 = []\n",
    "for item in calenders_month_12:\n",
    "    # 各カレンダー要素から 'temp high-temp red' クラスを持つpタグを探す\n",
    "    p_tag = item.find('p', class_='temp high-temp red')\n",
    "    if p_tag:\n",
    "        # タグが見つかればその文字列をリストに追加\n",
    "        high_temp_month_12.append(p_tag.string)\n",
    "\n",
    "print(high_temp_month_12)\n",
    "\n"
   ]
  },
  {
   "cell_type": "code",
   "execution_count": 145,
   "metadata": {},
   "outputs": [
    {
     "name": "stdout",
     "output_type": "stream",
     "text": [
      "['13.0℃', '9.7℃', '12.0℃', '15.5℃', '13.5℃', '15.7℃', '11.4℃', '10.3℃', '10.8℃', '13.2℃', '7.6℃', '14.1℃', '12.4℃', '11.6℃']\n"
     ]
    }
   ],
   "source": [
    "# 1月の最高気温を取得\n",
    "res = requests.get('https://tenki.jp/amp/past/2024/01/weather/3/15/47682/')\n",
    "soup = BeautifulSoup(res.text, 'html.parser')\n",
    "\n",
    "# 'past-calender-box' クラスを持つdivを取得\n",
    "div_tag = soup.find('div', class_='past-calender-box')\n",
    "\n",
    "# CSSセレクタを使用して 'past-calender-item' クラスのみを持つdivタグを取得\n",
    "calenders_month_1 = div_tag.select('div.past-calender-item:not(.past)')\n",
    "\n",
    "high_temp_month_1 = []\n",
    "for item in calenders_month_1:\n",
    "    # 各カレンダー要素から 'temp high-temp red' クラスを持つpタグを探す\n",
    "    p_tag = item.find('p', class_='temp high-temp red')\n",
    "    if p_tag:\n",
    "        # タグが見つかればその文字列をリストに追加\n",
    "        high_temp_month_1.append(p_tag.get_text())\n",
    "\n",
    "print(high_temp_month_1)\n"
   ]
  },
  {
   "cell_type": "code",
   "execution_count": 146,
   "metadata": {},
   "outputs": [
    {
     "name": "stdout",
     "output_type": "stream",
     "text": [
      "['11.9℃', '10.8℃', '12.0℃', '11.8℃', '10.0℃', '9.5℃', '9.5℃', '13.9℃', '13.0℃', '13.1℃', '9.3℃', '12.8℃', '14.8℃', '12.4℃', '13.0℃', '9.7℃', '12.0℃', '15.5℃', '13.5℃', '15.7℃', '11.4℃', '10.3℃', '10.8℃', '13.2℃', '7.6℃', '14.1℃', '12.4℃', '11.6℃']\n",
      "28\n"
     ]
    }
   ],
   "source": [
    "# 12月と1月の最高気温データを結合\n",
    "high_temp_lists = []\n",
    "\n",
    "for temp in high_temp_month_12:\n",
    "    joined_temp = ''.join(temp)\n",
    "    high_temp_lists.append(joined_temp)\n",
    "\n",
    "for temp in high_temp_month_1:\n",
    "    joined_temp = ''.join(temp)\n",
    "    high_temp_lists.append(joined_temp)\n",
    "    \n",
    "high_temp_lists = high_temp_lists[17:]\n",
    "\n",
    "print(high_temp_lists)\n",
    "print(len(high_temp_lists))\n"
   ]
  },
  {
   "cell_type": "code",
   "execution_count": null,
   "metadata": {},
   "outputs": [],
   "source": []
  },
  {
   "cell_type": "code",
   "execution_count": 147,
   "metadata": {},
   "outputs": [
    {
     "name": "stdout",
     "output_type": "stream",
     "text": [
      "['6.5℃', '4.5℃', '4.2℃', '6.7℃', '5.5℃', '8.3℃', '10.2℃', '8.9℃', '8.3℃', '8.5℃', '10.8℃', '10.5℃', '8.0℃', '7.2℃', '7.9℃', '13.7℃', '11.1℃', '5.1℃', '4.4℃', '6.0℃', '8.0℃', '1.5℃', '1.1℃', '2.7℃', '1.8℃', '4.2℃', '4.8℃', '5.0℃', '3.1℃', '4.8℃', '6.7℃']\n"
     ]
    }
   ],
   "source": [
    "# 12月の最低気温データを取得\n",
    "res = requests.get('https://tenki.jp/amp/past/2023/12/weather/3/15/47682/')\n",
    "soup = BeautifulSoup(res.text, 'html.parser')\n",
    "\n",
    "div_tag = soup.find('div', class_='past-calender-box')\n",
    "\n",
    "# 'past-calender-item' クラスを持つ全てのdivタグを取得\n",
    "calenders_month_12 = div_tag.select('div.past-calender-item:not(.past)')\n",
    "\n",
    "low_temp_month_12 = []\n",
    "for item in calenders_month_12:\n",
    "    # 各カレンダー要素から 'temp low-temp blue' クラスを持つpタグを探す\n",
    "    p_tag = item.find('p', class_='temp low-temp blue')\n",
    "    if p_tag:\n",
    "        # タグが見つかればその文字列をリストに追加\n",
    "        low_temp_month_12.append(p_tag.string)\n",
    "\n",
    "print(low_temp_month_12)"
   ]
  },
  {
   "cell_type": "code",
   "execution_count": null,
   "metadata": {},
   "outputs": [],
   "source": []
  },
  {
   "cell_type": "code",
   "execution_count": 148,
   "metadata": {},
   "outputs": [
    {
     "name": "stdout",
     "output_type": "stream",
     "text": [
      "['8.9℃', '3.4℃', '3.6℃', '7.9℃', '3.8℃', '4.5℃', '8.4℃', '2.7℃', '2.3℃', '2.6℃', '4.1℃', '1.0℃', '4.1℃', '1.0℃']\n"
     ]
    }
   ],
   "source": [
    "# 1月の最低気温を取得\n",
    "res = requests.get('https://tenki.jp/amp/past/2024/01/weather/3/15/47682/')\n",
    "soup = BeautifulSoup(res.text, 'html.parser')\n",
    "\n",
    "# 'past-calender-box' クラスを持つdivを取得\n",
    "div_tag = soup.find('div', class_='past-calender-box')\n",
    "\n",
    "# 'past-calender-item' クラスを持つ全てのdivタグを取得\n",
    "calenders_month_1 = div_tag.select('div.past-calender-item:not(.past)')\n",
    "\n",
    "low_temp_month_1 = []\n",
    "for item in calenders_month_1:\n",
    "    # 各カレンダー要素から 'temp high-temp red' クラスを持つpタグを探す\n",
    "    p_tag = item.find('p', class_='temp low-temp blue')\n",
    "    if p_tag:\n",
    "        # タグが見つかればその文字列をリストに追加\n",
    "        low_temp_month_1.append(p_tag.string)\n",
    "\n",
    "print(low_temp_month_1)"
   ]
  },
  {
   "cell_type": "code",
   "execution_count": 149,
   "metadata": {},
   "outputs": [
    {
     "name": "stdout",
     "output_type": "stream",
     "text": [
      "28\n"
     ]
    }
   ],
   "source": [
    "# 最低気温のデータを結合\n",
    "low_temp_lists = []\n",
    "for temp in low_temp_month_12:\n",
    "    joined_temp = ''.join(temp)\n",
    "    low_temp_lists.append(joined_temp)\n",
    "\n",
    "for temp in low_temp_month_1:\n",
    "    joined_temp = ''.join(temp)\n",
    "    low_temp_lists.append(joined_temp)\n",
    "    \n",
    "# 不要なデータを削除\n",
    "low_temp_lists = low_temp_lists[17:]\n",
    "\n",
    "print(len(low_temp_lists))\n"
   ]
  },
  {
   "cell_type": "code",
   "execution_count": 150,
   "metadata": {},
   "outputs": [],
   "source": [
    "# データベースを作成\n",
    "\n",
    "# 必要なライブラリをインポート\n",
    "import sqlite3\n",
    "import pandas as pd\n",
    "\n"
   ]
  },
  {
   "cell_type": "code",
   "execution_count": null,
   "metadata": {},
   "outputs": [],
   "source": []
  }
 ],
 "metadata": {
  "kernelspec": {
   "display_name": "Python 3",
   "language": "python",
   "name": "python3"
  },
  "language_info": {
   "codemirror_mode": {
    "name": "ipython",
    "version": 3
   },
   "file_extension": ".py",
   "mimetype": "text/x-python",
   "name": "python",
   "nbconvert_exporter": "python",
   "pygments_lexer": "ipython3",
   "version": "3.9.10"
  }
 },
 "nbformat": 4,
 "nbformat_minor": 2
}
